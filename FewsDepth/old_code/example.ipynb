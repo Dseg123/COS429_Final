{
 "cells": [
  {
   "cell_type": "code",
   "execution_count": 2,
   "metadata": {},
   "outputs": [
    {
     "name": "stdout",
     "output_type": "stream",
     "text": [
      "Jupyter environment detected. Enabling Open3D WebVisualizer.\n",
      "[Open3D INFO] WebRTC GUI backend enabled.\n",
      "[Open3D INFO] WebRTCWindowSystem: HTTP handshake server disabled.\n"
     ]
    },
    {
     "ename": "SyntaxError",
     "evalue": "expected ':' (fuse_depth.py, line 128)",
     "output_type": "error",
     "traceback": [
      "Traceback \u001b[0;36m(most recent call last)\u001b[0m:\n",
      "\u001b[0m  File \u001b[1;32m~/miniconda3/envs/unidepth/lib/python3.10/site-packages/IPython/core/interactiveshell.py:3577\u001b[0m in \u001b[1;35mrun_code\u001b[0m\n    exec(code_obj, self.user_global_ns, self.user_ns)\u001b[0m\n",
      "\u001b[0;36m  Cell \u001b[0;32mIn[2], line 14\u001b[0;36m\n\u001b[0;31m    import fuse_depth as fd\u001b[0;36m\n",
      "\u001b[0;36m  File \u001b[0;32m~/Documents/fuse_depth/COS429_Final/FewsDepth/fuse_depth.py:128\u001b[0;36m\u001b[0m\n\u001b[0;31m    if method == 'stddev'\u001b[0m\n\u001b[0m                         ^\u001b[0m\n\u001b[0;31mSyntaxError\u001b[0m\u001b[0;31m:\u001b[0m expected ':'\n"
     ]
    }
   ],
   "source": [
    "from os import listdir\n",
    "from os.path import join\n",
    "import matplotlib.pyplot as plt\n",
    "import copy\n",
    "import numpy as np\n",
    "import torch\n",
    "from unidepth.utils import colorize, image_grid\n",
    "from unidepth.models import UniDepthV1\n",
    "from unidepth.utils.visualization import colorize_np\n",
    "from unidepth.utils.geometric import project_points\n",
    "from PIL import Image\n",
    "import open3d as o3d\n",
    "import cv2\n",
    "import fuse_depth as fd\n",
    "%load_ext autoreload\n",
    "%autoreload 2"
   ]
  },
  {
   "cell_type": "code",
   "execution_count": 2,
   "metadata": {},
   "outputs": [
    {
     "name": "stdout",
     "output_type": "stream",
     "text": [
      "Instantiate: dinov2_vitl14\n",
      "0.8897708546107137\n",
      "0.9992779264379822\n"
     ]
    }
   ],
   "source": [
    "import os\n",
    "import random\n",
    "\n",
    "model = UniDepthV1.from_pretrained(\"lpiccinelli/unidepth-v1-vitl14\")\n",
    "device = torch.device(\"cuda\" if torch.cuda.is_available() else \"cpu\")\n",
    "model = model.to(device)\n",
    "\n",
    "support_paths = []\n",
    "\n",
    "base_path = f'../data/environment1/images/image_10.png'\n",
    "\n",
    "for filename in listdir(\"supports\"): \n",
    "    full_path = join(\"supports\", filename)\n",
    "    support_paths.append(full_path)\n",
    "\n",
    "H,W  = np.array(Image.open(base_path)).shape[:2]\n",
    "\n",
    "sup_pcds = []\n",
    "for i, sup_path in enumerate(support_paths):\n",
    "    T, scale, torch_intrinsics1, torch_points1, torch_depth_output = fd.pairwise_pose(base_path, sup_path, model) # base, sup order\n",
    "   # if scale > 1.2 or scale < 0.9:\n",
    "   #     continue\n",
    "    pcd1 = o3d.io.read_point_cloud(\"ply2/im1.ply\")\n",
    "    pcd2 = o3d.io.read_point_cloud(\"ply2/im2.ply\")\n",
    "    o3d.io.write_point_cloud(f\"ply2/{i}.ply\", pcd2)\n",
    "    pcd2 = pcd2.scale(scale, center=(0, 0, 0))\n",
    "    pcd2 = pcd2.transform(T)\n",
    "   # o3d.io.write_point_cloud(f\"ply2/{i}.ply\", pcd2)\n",
    "    sup_pcds.append(pcd2)"
   ]
  },
  {
   "cell_type": "code",
   "execution_count": 3,
   "metadata": {},
   "outputs": [
    {
     "name": "stdout",
     "output_type": "stream",
     "text": [
      "Transformation is:\n",
      "[[ 0.99753482  0.03856078  0.05862891 -0.18653417]\n",
      " [-0.03654743  0.99871763 -0.03503397  0.24274918]\n",
      " [-0.05990466  0.03280486  0.99766491 -0.05140095]\n",
      " [ 0.          0.          0.          1.        ]]\n",
      "Transformation is:\n",
      "[[ 9.99999952e-01  1.57731474e-04  2.66844638e-04 -1.71703091e-03]\n",
      " [-1.57554224e-04  9.99999767e-01 -6.64134474e-04  2.00201248e-03]\n",
      " [-2.66949330e-04  6.64092400e-04  9.99999744e-01  5.89022500e-03]\n",
      " [ 0.00000000e+00  0.00000000e+00  0.00000000e+00  1.00000000e+00]]\n"
     ]
    },
    {
     "data": {
      "text/plain": [
       "True"
      ]
     },
     "execution_count": 3,
     "metadata": {},
     "output_type": "execute_result"
    }
   ],
   "source": [
    "pcd_comb = copy.deepcopy(pcd1)\n",
    "for pcd in sup_pcds:\n",
    "    T = fd.icp(pcd, pcd1)\n",
    "    dup_pcd = copy.deepcopy(pcd) \n",
    "    dup_pcd.transform(T)\n",
    "    pcd_comb += dup_pcd\n",
    "\n",
    "o3d.io.write_point_cloud(\"ply2/merged.ply\", pcd_comb)"
   ]
  },
  {
   "cell_type": "code",
   "execution_count": 1,
   "metadata": {},
   "outputs": [
    {
     "ename": "NameError",
     "evalue": "name 'fd' is not defined",
     "output_type": "error",
     "traceback": [
      "\u001b[0;31m---------------------------------------------------------------------------\u001b[0m",
      "\u001b[0;31mNameError\u001b[0m                                 Traceback (most recent call last)",
      "Cell \u001b[0;32mIn[1], line 1\u001b[0m\n\u001b[0;32m----> 1\u001b[0m depth_min \u001b[38;5;241m=\u001b[39m \u001b[43mfd\u001b[49m\u001b[38;5;241m.\u001b[39mcreate_depth_map(np\u001b[38;5;241m.\u001b[39masarray(pcd_comb\u001b[38;5;241m.\u001b[39mpoints), torch_intrinsics1\u001b[38;5;241m.\u001b[39msqueeze()\u001b[38;5;241m.\u001b[39mcpu()\u001b[38;5;241m.\u001b[39mnumpy(), (H,W), \u001b[38;5;124m'\u001b[39m\u001b[38;5;124mmin\u001b[39m\u001b[38;5;124m'\u001b[39m)\n\u001b[1;32m      2\u001b[0m depth_min \u001b[38;5;241m=\u001b[39m cv2\u001b[38;5;241m.\u001b[39mmedianBlur(depth_min\u001b[38;5;241m.\u001b[39mastype(\u001b[38;5;124m'\u001b[39m\u001b[38;5;124mfloat32\u001b[39m\u001b[38;5;124m'\u001b[39m), \u001b[38;5;241m5\u001b[39m)\n\u001b[1;32m      4\u001b[0m depth_col_avg \u001b[38;5;241m=\u001b[39m colorize_np(depth_min, vmin\u001b[38;5;241m=\u001b[39m\u001b[38;5;241m0.01\u001b[39m, vmax\u001b[38;5;241m=\u001b[39m\u001b[38;5;241m10.0\u001b[39m, cmap\u001b[38;5;241m=\u001b[39m\u001b[38;5;124m\"\u001b[39m\u001b[38;5;124mmagma_r\u001b[39m\u001b[38;5;124m\"\u001b[39m)\n",
      "\u001b[0;31mNameError\u001b[0m: name 'fd' is not defined"
     ]
    }
   ],
   "source": [
    "depth_min = fd.create_depth_map(np.asarray(pcd_comb.points), torch_intrinsics1.squeeze().cpu().numpy(), (H,W), 'min')\n",
    "depth_min = cv2.medianBlur(depth_min.astype('float32'), 5)\n",
    "\n",
    "depth_col_avg = colorize_np(depth_min, vmin=0.01, vmax=10.0, cmap=\"magma_r\")\n",
    "Image.fromarray(depth_col_avg).save(\"outputs/min.png\")\n",
    "\n",
    "depth_median = fd.create_depth_map(np.asarray(pcd_comb.points), torch_intrinsics1.squeeze().cpu().numpy(), (H,W), 'median')\n",
    "depth_median = cv2.medianBlur(depth_median.astype('float32'), 5)\n",
    "\n",
    "depth_col_median = colorize_np(depth_median, vmin=0.01, vmax=10.0, cmap=\"magma_r\")\n",
    "Image.fromarray(depth_col_avg).save(\"outputs/median.png\")\n",
    "\n",
    "points_tensor = torch.tensor(np.asarray(pcd_comb.points), dtype=torch.float)\n",
    "points_tensor = points_tensor.view(-1, 3).unsqueeze(0).cuda()\n",
    "torch_depth_mean = project_points(points_tensor, torch_intrinsics1, (H,W))\n",
    "depth_pred_col_mean = colorize(torch_depth_mean.squeeze().cpu().numpy(), vmin=0.01, vmax=10.0, cmap=\"magma_r\")\n",
    "Image.fromarray(depth_pred_col_mean).save(\"outputs/mean.png\")\n",
    "\n",
    "\"\"\" point_cloud_flat = torch_points1.view(1, 3, -1)  # Shape: (B, 3, HW)\n",
    "point_cloud_transposed = point_cloud_flat.transpose(1, 2)  # Shape: (B, HW, 3)\n",
    "torch_depth = project_points(point_cloud_transposed, torch_intrinsics1, (H,W)) \"\"\"\n",
    "\n",
    "depth_pred_col = colorize(torch_depth_output, vmin=0.01, vmax=10.0, cmap=\"magma_r\")\n",
    "Image.fromarray(depth_pred_col).save(\"outputs/original.png\") "
   ]
  },
  {
   "cell_type": "code",
   "execution_count": 5,
   "metadata": {},
   "outputs": [],
   "source": [
    "gt = np.load(f\"../data/environment1/depths/depth_0.npy\")\n",
    "gt_col = colorize_np(gt, vmin=0.01, vmax=10.0, cmap=\"magma_r\")\n",
    "Image.fromarray(gt_col).save(\"outputs/gt.png\")"
   ]
  },
  {
   "cell_type": "code",
   "execution_count": 6,
   "metadata": {},
   "outputs": [],
   "source": [
    "og_depth = torch_depth_output\n",
    "mean_depth = torch_depth_mean.squeeze().cpu().numpy()\n",
    "valid_indices = ~np.isnan(gt)"
   ]
  },
  {
   "cell_type": "code",
   "execution_count": 7,
   "metadata": {},
   "outputs": [
    {
     "name": "stdout",
     "output_type": "stream",
     "text": [
      "Min Reconstructed Depth MSE: 6.6517444\n",
      "Median Reconstructed Depth MSE: 7.461802\n",
      "Mean Reconstructed Depth MSE: 7.5073895\n",
      "Original Depth MSE: 7.416718\n"
     ]
    }
   ],
   "source": [
    "squared_error = (depth_min[valid_indices] - gt[valid_indices])**2\n",
    "mse = np.mean(squared_error)\n",
    "print(\"Min Reconstructed Depth MSE:\", mse)\n",
    "\n",
    "squared_error = (depth_median[valid_indices] - gt[valid_indices])**2\n",
    "mse = np.mean(squared_error)\n",
    "print(\"Median Reconstructed Depth MSE:\", mse)\n",
    "\n",
    "squared_error = (mean_depth[valid_indices] - gt[valid_indices])**2\n",
    "mse = np.mean(squared_error)\n",
    "print(\"Mean Reconstructed Depth MSE:\", mse)\n",
    "\n",
    "squared_error = (og_depth[valid_indices] - gt[valid_indices])**2\n",
    "mse = np.mean(squared_error)\n",
    "print(\"Original Depth MSE:\", mse)"
   ]
  },
  {
   "cell_type": "code",
   "execution_count": 8,
   "metadata": {},
   "outputs": [
    {
     "name": "stdout",
     "output_type": "stream",
     "text": [
      "Tolerance: 0.5\n"
     ]
    },
    {
     "ename": "TypeError",
     "evalue": "percent_within_tolerance() missing 1 required positional argument: 'valid_mask'",
     "output_type": "error",
     "traceback": [
      "\u001b[0;31m---------------------------------------------------------------------------\u001b[0m",
      "\u001b[0;31mTypeError\u001b[0m                                 Traceback (most recent call last)",
      "Cell \u001b[0;32mIn[8], line 2\u001b[0m\n\u001b[1;32m      1\u001b[0m \u001b[38;5;28mprint\u001b[39m(\u001b[38;5;124m\"\u001b[39m\u001b[38;5;124mTolerance: 0.5\u001b[39m\u001b[38;5;124m\"\u001b[39m)\n\u001b[0;32m----> 2\u001b[0m \u001b[38;5;28mprint\u001b[39m(\u001b[38;5;124m\"\u001b[39m\u001b[38;5;124mMin Reconstructed Depth Percent:\u001b[39m\u001b[38;5;124m\"\u001b[39m, \u001b[43mfd\u001b[49m\u001b[38;5;241;43m.\u001b[39;49m\u001b[43mpercent_within_tolerance\u001b[49m\u001b[43m(\u001b[49m\u001b[43mdepth_min\u001b[49m\u001b[43m,\u001b[49m\u001b[43m \u001b[49m\u001b[43mgt\u001b[49m\u001b[43m,\u001b[49m\u001b[43m \u001b[49m\u001b[38;5;241;43m0.5\u001b[39;49m\u001b[43m)\u001b[49m)\n\u001b[1;32m      3\u001b[0m \u001b[38;5;28mprint\u001b[39m(\u001b[38;5;124m\"\u001b[39m\u001b[38;5;124mMedian Reconstructed Depth Percent:\u001b[39m\u001b[38;5;124m\"\u001b[39m, fd\u001b[38;5;241m.\u001b[39mpercent_within_tolerance(depth_median, gt, \u001b[38;5;241m0.5\u001b[39m))\n\u001b[1;32m      4\u001b[0m \u001b[38;5;28mprint\u001b[39m(\u001b[38;5;124m\"\u001b[39m\u001b[38;5;124mMean Reconstructed Depth Percent:\u001b[39m\u001b[38;5;124m\"\u001b[39m,fd\u001b[38;5;241m.\u001b[39m percent_within_tolerance(mean_depth, gt, \u001b[38;5;241m0.5\u001b[39m))\n",
      "\u001b[0;31mTypeError\u001b[0m: percent_within_tolerance() missing 1 required positional argument: 'valid_mask'"
     ]
    }
   ],
   "source": [
    "print(\"Tolerance: 0.5\")\n",
    "print(\"Min Reconstructed Depth Percent:\", fd.percent_within_tolerance(depth_min, gt, 0.5))\n",
    "print(\"Median Reconstructed Depth Percent:\", fd.percent_within_tolerance(depth_median, gt, 0.5))\n",
    "print(\"Mean Reconstructed Depth Percent:\",fd. percent_within_tolerance(mean_depth, gt, 0.5))\n",
    "print(\"Original Depth Percent:\", fd.percent_within_tolerance(og_depth, gt, 0.5))\n",
    "\n",
    "\n",
    "print(\"Tolerance: 1\")\n",
    "print(\"Min Reconstructed Depth Percent:\", fd.percent_within_tolerance(depth_min, gt, 1))\n",
    "print(\"Median Reconstructed Depth Percent:\", fd.percent_within_tolerance(depth_median, gt, 1))\n",
    "print(\"Mean Reconstructed Depth Percent:\", fd.percent_within_tolerance(mean_depth, gt, 1))\n",
    "print(\"Original Depth Percent:\", fd.percent_within_tolerance(og_depth, gt, 1))\n",
    "\n",
    "print(\"Tolerance: 2\")\n",
    "print(\"Min Reconstructed Depth Percent:\", fd.percent_within_tolerance(depth_min, gt, 2))\n",
    "print(\"Median Reconstructed Depth Percent:\", fd.percent_within_tolerance(depth_median, gt, 2))\n",
    "print(\"Mean Reconstructed Depth Percent:\", fd.percent_within_tolerance(mean_depth, gt, 2))\n",
    "print(\"Original Depth Percent:\", fd.percent_within_tolerance(og_depth, gt, 2))"
   ]
  }
 ],
 "metadata": {
  "kernelspec": {
   "display_name": "Python 3.10.14 ('unidepth')",
   "language": "python",
   "name": "python3"
  },
  "language_info": {
   "codemirror_mode": {
    "name": "ipython",
    "version": 3
   },
   "file_extension": ".py",
   "mimetype": "text/x-python",
   "name": "python",
   "nbconvert_exporter": "python",
   "pygments_lexer": "ipython3",
   "version": "3.10.14"
  },
  "orig_nbformat": 4,
  "vscode": {
   "interpreter": {
    "hash": "b3caef7f33b181344cf27749f296d184d39308c97946686da309cd29485f94e7"
   }
  }
 },
 "nbformat": 4,
 "nbformat_minor": 2
}
